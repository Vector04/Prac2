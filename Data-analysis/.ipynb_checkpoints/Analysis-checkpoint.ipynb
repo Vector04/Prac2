{
 "cells": [
  {
   "cell_type": "code",
   "execution_count": 1,
   "metadata": {},
   "outputs": [],
   "source": [
    "import numpy as np \n",
    "import pandas as pd \n",
    "from matplotlib import pyplot as plt \n",
    "from lmfit import models"
   ]
  },
  {
   "cell_type": "markdown",
   "metadata": {},
   "source": [
    "## Opdracht 1.1\n"
   ]
  },
  {
   "cell_type": "code",
   "execution_count": 2,
   "metadata": {},
   "outputs": [
    {
     "data": {
      "text/html": [
       "<div>\n",
       "<style scoped>\n",
       "    .dataframe tbody tr th:only-of-type {\n",
       "        vertical-align: middle;\n",
       "    }\n",
       "\n",
       "    .dataframe tbody tr th {\n",
       "        vertical-align: top;\n",
       "    }\n",
       "\n",
       "    .dataframe thead th {\n",
       "        text-align: right;\n",
       "    }\n",
       "</style>\n",
       "<table border=\"1\" class=\"dataframe\">\n",
       "  <thead>\n",
       "    <tr style=\"text-align: right;\">\n",
       "      <th></th>\n",
       "      <th>x</th>\n",
       "    </tr>\n",
       "  </thead>\n",
       "  <tbody>\n",
       "    <tr>\n",
       "      <th>0</th>\n",
       "      <td>73</td>\n",
       "    </tr>\n",
       "    <tr>\n",
       "      <th>1</th>\n",
       "      <td>79</td>\n",
       "    </tr>\n",
       "    <tr>\n",
       "      <th>2</th>\n",
       "      <td>69</td>\n",
       "    </tr>\n",
       "    <tr>\n",
       "      <th>3</th>\n",
       "      <td>74</td>\n",
       "    </tr>\n",
       "    <tr>\n",
       "      <th>4</th>\n",
       "      <td>68</td>\n",
       "    </tr>\n",
       "    <tr>\n",
       "      <th>5</th>\n",
       "      <td>72</td>\n",
       "    </tr>\n",
       "    <tr>\n",
       "      <th>6</th>\n",
       "      <td>72</td>\n",
       "    </tr>\n",
       "    <tr>\n",
       "      <th>7</th>\n",
       "      <td>75</td>\n",
       "    </tr>\n",
       "    <tr>\n",
       "      <th>8</th>\n",
       "      <td>60</td>\n",
       "    </tr>\n",
       "    <tr>\n",
       "      <th>9</th>\n",
       "      <td>76</td>\n",
       "    </tr>\n",
       "  </tbody>\n",
       "</table>\n",
       "</div>"
      ],
      "text/plain": [
       "    x\n",
       "0  73\n",
       "1  79\n",
       "2  69\n",
       "3  74\n",
       "4  68\n",
       "5  72\n",
       "6  72\n",
       "7  75\n",
       "8  60\n",
       "9  76"
      ]
     },
     "execution_count": 2,
     "metadata": {},
     "output_type": "execute_result"
    }
   ],
   "source": [
    "df = pd.read_csv('10-metingen.csv')\n",
    "df"
   ]
  },
  {
   "cell_type": "code",
   "execution_count": 3,
   "metadata": {},
   "outputs": [
    {
     "name": "stdout",
     "output_type": "stream",
     "text": [
      "mean=71.8 \n",
      " std=5.245103536738918 \n",
      " stdmean=1.6586473739499634\n"
     ]
    }
   ],
   "source": [
    "mean = df['x'].mean()\n",
    "std = df['x'].std()\n",
    "stdmean = std / np.sqrt(len(df['x']))\n",
    "print(f\"{mean=} \\n {std=} \\n {stdmean=}\")"
   ]
  },
  {
   "cell_type": "markdown",
   "metadata": {},
   "source": [
    "De juiste notatie voor de uitkomst van een volgende meting is $71.80 \\pm 1.65$."
   ]
  },
  {
   "cell_type": "code",
   "execution_count": 4,
   "metadata": {},
   "outputs": [
    {
     "name": "stdout",
     "output_type": "stream",
     "text": [
      "0.02684787630095853\n"
     ]
    }
   ],
   "source": [
    "# Probability that the second mesurement is greater than 75:\n",
    "from scipy import special\n",
    "print((1 - special.erf((75-mean) / (stdmean * np.sqrt(2)))) / 2)"
   ]
  },
  {
   "cell_type": "markdown",
   "metadata": {},
   "source": [
    "## Opdracht 1.2\n",
    "\n"
   ]
  },
  {
   "cell_type": "code",
   "execution_count": 5,
   "metadata": {},
   "outputs": [
    {
     "data": {
      "text/html": [
       "<div>\n",
       "<style scoped>\n",
       "    .dataframe tbody tr th:only-of-type {\n",
       "        vertical-align: middle;\n",
       "    }\n",
       "\n",
       "    .dataframe tbody tr th {\n",
       "        vertical-align: top;\n",
       "    }\n",
       "\n",
       "    .dataframe thead th {\n",
       "        text-align: right;\n",
       "    }\n",
       "</style>\n",
       "<table border=\"1\" class=\"dataframe\">\n",
       "  <thead>\n",
       "    <tr style=\"text-align: right;\">\n",
       "      <th></th>\n",
       "      <th>y</th>\n",
       "    </tr>\n",
       "  </thead>\n",
       "  <tbody>\n",
       "    <tr>\n",
       "      <th>0</th>\n",
       "      <td>90</td>\n",
       "    </tr>\n",
       "    <tr>\n",
       "      <th>1</th>\n",
       "      <td>90</td>\n",
       "    </tr>\n",
       "    <tr>\n",
       "      <th>2</th>\n",
       "      <td>79</td>\n",
       "    </tr>\n",
       "    <tr>\n",
       "      <th>3</th>\n",
       "      <td>84</td>\n",
       "    </tr>\n",
       "    <tr>\n",
       "      <th>4</th>\n",
       "      <td>78</td>\n",
       "    </tr>\n",
       "    <tr>\n",
       "      <th>...</th>\n",
       "      <td>...</td>\n",
       "    </tr>\n",
       "    <tr>\n",
       "      <th>75</th>\n",
       "      <td>22</td>\n",
       "    </tr>\n",
       "    <tr>\n",
       "      <th>76</th>\n",
       "      <td>28</td>\n",
       "    </tr>\n",
       "    <tr>\n",
       "      <th>77</th>\n",
       "      <td>36</td>\n",
       "    </tr>\n",
       "    <tr>\n",
       "      <th>78</th>\n",
       "      <td>39</td>\n",
       "    </tr>\n",
       "    <tr>\n",
       "      <th>79</th>\n",
       "      <td>51</td>\n",
       "    </tr>\n",
       "  </tbody>\n",
       "</table>\n",
       "<p>80 rows × 1 columns</p>\n",
       "</div>"
      ],
      "text/plain": [
       "     y\n",
       "0   90\n",
       "1   90\n",
       "2   79\n",
       "3   84\n",
       "4   78\n",
       "..  ..\n",
       "75  22\n",
       "76  28\n",
       "77  36\n",
       "78  39\n",
       "79  51\n",
       "\n",
       "[80 rows x 1 columns]"
      ]
     },
     "execution_count": 5,
     "metadata": {},
     "output_type": "execute_result"
    }
   ],
   "source": [
    "df = pd.read_csv('80-metingen.csv')\n",
    "df"
   ]
  },
  {
   "cell_type": "code",
   "execution_count": 6,
   "metadata": {},
   "outputs": [
    {
     "data": {
      "image/png": "[encoded data removed]",
      "text/plain": [
       "<Figure size 432x288 with 1 Axes>"
      ]
     },
     "metadata": {
      "needs_background": "light"
     },
     "output_type": "display_data"
    }
   ],
   "source": [
    "plt.hist(df['y'], bins=10)\n",
    "plt.grid()"
   ]
  },
  {
   "cell_type": "code",
   "execution_count": 7,
   "metadata": {},
   "outputs": [
    {
     "data": {
      "text/html": [
       "<h2> Model</h2> Model(gaussian) <h2>Fit Statistics</h2><table><tr><td>fitting method</td><td>leastsq</td><td></td></tr><tr><td># function evals</td><td>17</td><td></td></tr><tr><td># data points</td><td>10</td><td></td></tr><tr><td># variables</td><td>3</td><td></td></tr><tr><td>chi-square</td><td> 27.4504863</td><td></td></tr><tr><td>reduced chi-square</td><td> 3.92149805</td><td></td></tr><tr><td>Akaike info crit.</td><td> 16.0979879</td><td></td></tr><tr><td>Bayesian info crit.</td><td> 17.0057432</td><td></td></tr></table><h2>Variables</h2><table><tr><th> name </th><th> value </th><th> standard error </th><th> relative error </th><th> initial value </th><th> min </th><th> max </th><th> vary </th><th> expression </th></tr><tr><td> amplitude </td><td>  667.448454 </td><td>  86.4932882 </td><td> (12.96%) </td><td> 683.1000000000001 </td><td>        -inf </td><td>         inf </td><td> True </td><td>  </td></tr><tr><td> center </td><td>  65.8701797 </td><td>  3.11476796 </td><td> (4.73%) </td><td> 62.25 </td><td>        -inf </td><td>         inf </td><td> True </td><td>  </td></tr><tr><td> sigma </td><td>  23.3425421 </td><td>  3.82353539 </td><td> (16.38%) </td><td> 20.700000000000003 </td><td>  0.00000000 </td><td>         inf </td><td> True </td><td>  </td></tr><tr><td> fwhm </td><td>  54.9674850 </td><td>  9.00373759 </td><td> (16.38%) </td><td> 48.74477400000001 </td><td>        -inf </td><td>         inf </td><td> False </td><td> 2.3548200*sigma </td></tr><tr><td> height </td><td>  11.4072161 </td><td>  1.06946118 </td><td> (9.38%) </td><td> 13.1650959 </td><td>        -inf </td><td>         inf </td><td> False </td><td> 0.3989423*amplitude/max(2.220446049250313e-16, sigma) </td></tr></table><h2>Correlations (unreported correlations are < 0.100)</h2><table><tr><td>amplitude</td><td>sigma</td><td>0.8205</td></tr><tr><td>center</td><td>sigma</td><td>0.4382</td></tr><tr><td>amplitude</td><td>center</td><td>0.4306</td></tr></table>"
      ],
      "text/plain": [
       "<lmfit.model.ModelResult at 0x1323e238>"
      ]
     },
     "execution_count": 7,
     "metadata": {},
     "output_type": "execute_result"
    }
   ],
   "source": [
    "# Gaussian fitting\n",
    "y, x = np.histogram(df['y'])\n",
    "# Now, x is an array of bin edges, we want to know bin centers.\n",
    "x = 0.5*(x[1:] + x[:-1])\n",
    "\n",
    "gmodel = models.GaussianModel()\n",
    "params = gmodel.guess(y, x=x)\n",
    "results = gmodel.fit(y, params, x=x)\n",
    "results"
   ]
  },
  {
   "cell_type": "code",
   "execution_count": 8,
   "metadata": {},
   "outputs": [
    {
     "data": {
      "text/plain": [
       "(<Figure size 432x432 with 2 Axes>, GridSpec(2, 1, height_ratios=[1, 4]))"
      ]
     },
     "execution_count": 8,
     "metadata": {},
     "output_type": "execute_result"
    },
    {
     "data": {
      "image/png": "[encoded data removed]",
      "text/plain": [
       "<Figure size 432x432 with 2 Axes>"
      ]
     },
     "metadata": {
      "needs_background": "light"
     },
     "output_type": "display_data"
    }
   ],
   "source": [
    "results.plot()"
   ]
  },
  {
   "cell_type": "markdown",
   "metadata": {},
   "source": [
    "De de fit lijkt redelijk gelukt te zijn, al is de $\\chi^2$ nogsteeds vrij hoog. Ik zou de fit wel vertrouwen"
   ]
  },
  {
   "cell_type": "markdown",
   "metadata": {},
   "source": [
    "# Opgave 1.3"
   ]
  },
  {
   "cell_type": "markdown",
   "metadata": {},
   "source": [
    "$\\sigma_0 \\mapsto \\sigma_0 \\sqrt N$"
   ]
  },
  {
   "cell_type": "code",
   "execution_count": 21,
   "metadata": {},
   "outputs": [
    {
     "name": "stdout",
     "output_type": "stream",
     "text": [
      "mean=1.16 \n",
      " std=0.45192919799455317 \n",
      " stdmean=0.14291256067959876\n"
     ]
    }
   ],
   "source": [
    "diffs = np.array([2.43, 1.34, 0.84, 1.21, 0.92, 0.96, 0.89, 0.89, 0.94, 1.18])\n",
    "mean, std, stdmean = np.mean(diffs), np.std(diffs), np.std(diffs) / np.sqrt(len(diffs))\n",
    "print(f\"{mean=} \\n {std=} \\n {stdmean=}\")"
   ]
  },
  {
   "cell_type": "code",
   "execution_count": 26,
   "metadata": {},
   "outputs": [
    {
     "name": "stdout",
     "output_type": "stream",
     "text": [
      "12.9 ± 2.1\n"
     ]
    }
   ],
   "source": [
    "# Using this data, we can calculate the nerve speed\n",
    "# Automated error propagation & more\n",
    "from data_analysis_tools import *\n",
    "\n",
    "delta_t = floatE(mean, stdmean)\n",
    "nerve_length = floatE(1.5, 0.15)\n",
    "nerve_v = 17 * nerve_length / delta_t # 17 persons\n",
    "print(nerve_v)\n",
    "\n"
   ]
  },
  {
   "cell_type": "markdown",
   "metadata": {},
   "source": [
    "## Opgave 1.4"
   ]
  },
  {
   "cell_type": "code",
   "execution_count": 10,
   "metadata": {},
   "outputs": [
    {
     "data": {
      "text/html": [
       "<div>\n",
       "<style scoped>\n",
       "    .dataframe tbody tr th:only-of-type {\n",
       "        vertical-align: middle;\n",
       "    }\n",
       "\n",
       "    .dataframe tbody tr th {\n",
       "        vertical-align: top;\n",
       "    }\n",
       "\n",
       "    .dataframe thead th {\n",
       "        text-align: right;\n",
       "    }\n",
       "</style>\n",
       "<table border=\"1\" class=\"dataframe\">\n",
       "  <thead>\n",
       "    <tr style=\"text-align: right;\">\n",
       "      <th></th>\n",
       "      <th>tijd</th>\n",
       "      <th>counts</th>\n",
       "    </tr>\n",
       "  </thead>\n",
       "  <tbody>\n",
       "    <tr>\n",
       "      <th>0</th>\n",
       "      <td>0</td>\n",
       "      <td>1265</td>\n",
       "    </tr>\n",
       "    <tr>\n",
       "      <th>1</th>\n",
       "      <td>1</td>\n",
       "      <td>688</td>\n",
       "    </tr>\n",
       "    <tr>\n",
       "      <th>2</th>\n",
       "      <td>2</td>\n",
       "      <td>410</td>\n",
       "    </tr>\n",
       "    <tr>\n",
       "      <th>3</th>\n",
       "      <td>3</td>\n",
       "      <td>241</td>\n",
       "    </tr>\n",
       "    <tr>\n",
       "      <th>4</th>\n",
       "      <td>4</td>\n",
       "      <td>132</td>\n",
       "    </tr>\n",
       "    <tr>\n",
       "      <th>5</th>\n",
       "      <td>5</td>\n",
       "      <td>93</td>\n",
       "    </tr>\n",
       "    <tr>\n",
       "      <th>6</th>\n",
       "      <td>6</td>\n",
       "      <td>41</td>\n",
       "    </tr>\n",
       "    <tr>\n",
       "      <th>7</th>\n",
       "      <td>7</td>\n",
       "      <td>29</td>\n",
       "    </tr>\n",
       "    <tr>\n",
       "      <th>8</th>\n",
       "      <td>8</td>\n",
       "      <td>30</td>\n",
       "    </tr>\n",
       "  </tbody>\n",
       "</table>\n",
       "</div>"
      ],
      "text/plain": [
       "   tijd  counts\n",
       "0     0    1265\n",
       "1     1     688\n",
       "2     2     410\n",
       "3     3     241\n",
       "4     4     132\n",
       "5     5      93\n",
       "6     6      41\n",
       "7     7      29\n",
       "8     8      30"
      ]
     },
     "execution_count": 10,
     "metadata": {},
     "output_type": "execute_result"
    }
   ],
   "source": [
    "df = pd.read_csv('verval.csv')\n",
    "df"
   ]
  },
  {
   "cell_type": "code",
   "execution_count": 11,
   "metadata": {},
   "outputs": [
    {
     "data": {
      "text/html": [
       "<h2> Model</h2> Model(f) <h2>Fit Statistics</h2><table><tr><td>fitting method</td><td>leastsq</td><td></td></tr><tr><td># function evals</td><td>20</td><td></td></tr><tr><td># data points</td><td>9</td><td></td></tr><tr><td># variables</td><td>2</td><td></td></tr><tr><td>chi-square</td><td> 7.03239607</td><td></td></tr><tr><td>reduced chi-square</td><td> 1.00462801</td><td></td></tr><tr><td>Akaike info crit.</td><td> 1.77972615</td><td></td></tr><tr><td>Bayesian info crit.</td><td> 2.17417530</td><td></td></tr></table><h2>Variables</h2><table><tr><th> name </th><th> value </th><th> standard error </th><th> relative error </th><th> initial value </th><th> min </th><th> max </th><th> vary </th></tr><tr><td> lamda </td><td>  0.57970102 </td><td>  0.01307357 </td><td> (2.26%) </td><td> 1 </td><td>        -inf </td><td>         inf </td><td> True </td></tr><tr><td> N0 </td><td>  1244.90166 </td><td>  30.3225508 </td><td> (2.44%) </td><td> 1300 </td><td>        -inf </td><td>         inf </td><td> True </td></tr></table><h2>Correlations (unreported correlations are < 0.100)</h2><table><tr><td>lamda</td><td>N0</td><td>0.6150</td></tr></table>"
      ],
      "text/plain": [
       "<lmfit.model.ModelResult at 0x143d6958>"
      ]
     },
     "execution_count": 11,
     "metadata": {},
     "output_type": "execute_result"
    }
   ],
   "source": [
    "bg = 12\n",
    "\n",
    "def f(t, lamda, N0):\n",
    "    return N0 * np.exp(-lamda * t) + bg\n",
    "\n",
    "vmodel = models.Model(f)\n",
    "result = vmodel.fit(df['counts'], t=df['tijd'], lamda=1, N0=1300, weights=1/ np.sqrt(df['counts']))\n",
    "result"
   ]
  },
  {
   "cell_type": "code",
   "execution_count": 12,
   "metadata": {},
   "outputs": [
    {
     "data": {
      "text/plain": [
       "<matplotlib.axes._subplots.AxesSubplot at 0x143d6b98>"
      ]
     },
     "execution_count": 12,
     "metadata": {},
     "output_type": "execute_result"
    },
    {
     "data": {
      "image/png": "[encoded data removed]",
      "text/plain": [
       "<Figure size 432x288 with 1 Axes>"
      ]
     },
     "metadata": {
      "needs_background": "light"
     },
     "output_type": "display_data"
    }
   ],
   "source": [
    "result.plot_fit()"
   ]
  },
  {
   "cell_type": "code",
   "execution_count": 13,
   "metadata": {},
   "outputs": [
    {
     "name": "stdout",
     "output_type": "stream",
     "text": [
      "t12=1.1956977088525649 \n",
      " dt12=0.027020204321374048\n"
     ]
    }
   ],
   "source": [
    "lamda, dlamda = 0.5797010192694227, 0.0131\n",
    "t12, dt12 = np.log(2) / lamda, dlamda * np.log(2)/ lamda**2\n",
    "print(f\"{t12=} \\n {dt12=}\")"
   ]
  },
  {
   "cell_type": "markdown",
   "metadata": {},
   "source": [
    "### $\\tau_{1/2} = 1.196 \\pm 0.027 \\text{ h}$"
   ]
  },
  {
   "cell_type": "markdown",
   "metadata": {},
   "source": [
    "# Casus 1: Biomechanica"
   ]
  },
  {
   "cell_type": "code",
   "execution_count": 14,
   "metadata": {},
   "outputs": [
    {
     "data": {
      "text/html": [
       "<div>\n",
       "<style scoped>\n",
       "    .dataframe tbody tr th:only-of-type {\n",
       "        vertical-align: middle;\n",
       "    }\n",
       "\n",
       "    .dataframe tbody tr th {\n",
       "        vertical-align: top;\n",
       "    }\n",
       "\n",
       "    .dataframe thead th {\n",
       "        text-align: right;\n",
       "    }\n",
       "</style>\n",
       "<table border=\"1\" class=\"dataframe\">\n",
       "  <thead>\n",
       "    <tr style=\"text-align: right;\">\n",
       "      <th></th>\n",
       "      <th>stance width</th>\n",
       "      <th>impulse</th>\n",
       "      <th>error</th>\n",
       "    </tr>\n",
       "  </thead>\n",
       "  <tbody>\n",
       "    <tr>\n",
       "      <th>0</th>\n",
       "      <td>0</td>\n",
       "      <td>161.170658</td>\n",
       "      <td>6.005381</td>\n",
       "    </tr>\n",
       "    <tr>\n",
       "      <th>1</th>\n",
       "      <td>10</td>\n",
       "      <td>171.565045</td>\n",
       "      <td>3.825325</td>\n",
       "    </tr>\n",
       "    <tr>\n",
       "      <th>2</th>\n",
       "      <td>20</td>\n",
       "      <td>171.038662</td>\n",
       "      <td>3.080887</td>\n",
       "    </tr>\n",
       "    <tr>\n",
       "      <th>3</th>\n",
       "      <td>30</td>\n",
       "      <td>175.302728</td>\n",
       "      <td>5.350336</td>\n",
       "    </tr>\n",
       "    <tr>\n",
       "      <th>4</th>\n",
       "      <td>40</td>\n",
       "      <td>193.371009</td>\n",
       "      <td>6.911534</td>\n",
       "    </tr>\n",
       "    <tr>\n",
       "      <th>5</th>\n",
       "      <td>50</td>\n",
       "      <td>177.071976</td>\n",
       "      <td>0.703771</td>\n",
       "    </tr>\n",
       "    <tr>\n",
       "      <th>6</th>\n",
       "      <td>60</td>\n",
       "      <td>188.268868</td>\n",
       "      <td>7.498550</td>\n",
       "    </tr>\n",
       "    <tr>\n",
       "      <th>7</th>\n",
       "      <td>70</td>\n",
       "      <td>184.368025</td>\n",
       "      <td>4.715182</td>\n",
       "    </tr>\n",
       "    <tr>\n",
       "      <th>8</th>\n",
       "      <td>80</td>\n",
       "      <td>170.993129</td>\n",
       "      <td>2.384634</td>\n",
       "    </tr>\n",
       "  </tbody>\n",
       "</table>\n",
       "</div>"
      ],
      "text/plain": [
       "   stance width     impulse     error\n",
       "0             0  161.170658  6.005381\n",
       "1            10  171.565045  3.825325\n",
       "2            20  171.038662  3.080887\n",
       "3            30  175.302728  5.350336\n",
       "4            40  193.371009  6.911534\n",
       "5            50  177.071976  0.703771\n",
       "6            60  188.268868  7.498550\n",
       "7            70  184.368025  4.715182\n",
       "8            80  170.993129  2.384634"
      ]
     },
     "execution_count": 14,
     "metadata": {},
     "output_type": "execute_result"
    }
   ],
   "source": [
    "df = pd.read_csv('squat.csv')\n",
    "df"
   ]
  },
  {
   "cell_type": "code",
   "execution_count": 15,
   "metadata": {},
   "outputs": [
    {
     "data": {
      "text/html": [
       "<h2> Model</h2> Model(<lambda>) <h2>Fit Statistics</h2><table><tr><td>fitting method</td><td>leastsq</td><td></td></tr><tr><td># function evals</td><td>4</td><td></td></tr><tr><td># data points</td><td>9</td><td></td></tr><tr><td># variables</td><td>1</td><td></td></tr><tr><td>chi-square</td><td> 28.5416077</td><td></td></tr><tr><td>reduced chi-square</td><td> 3.56770097</td><td></td></tr><tr><td>Akaike info crit.</td><td> 12.3872453</td><td></td></tr><tr><td>Bayesian info crit.</td><td> 12.5844699</td><td></td></tr></table><h2>Variables</h2><table><tr><th> name </th><th> value </th><th> standard error </th><th> relative error </th><th> initial value </th><th> min </th><th> max </th><th> vary </th></tr><tr><td> a </td><td>  176.389970 </td><td>  1.19105853 </td><td> (0.68%) </td><td> 160 </td><td>        -inf </td><td>         inf </td><td> True </td></tr></table>"
      ],
      "text/plain": [
       "<lmfit.model.ModelResult at 0x143391f0>"
      ]
     },
     "execution_count": 15,
     "metadata": {},
     "output_type": "execute_result"
    }
   ],
   "source": [
    "# First, a fit of a constant line,\n",
    "model1 = models.Model(lambda x, a: a)\n",
    "result1 = model1.fit(df['impulse'], x=df['stance width'], weights=1 / df['error'], a=160)\n",
    "result1"
   ]
  },
  {
   "cell_type": "code",
   "execution_count": 16,
   "metadata": {},
   "outputs": [
    {
     "data": {
      "text/html": [
       "<h2> Model</h2> Model(<lambda>) <h2>Fit Statistics</h2><table><tr><td>fitting method</td><td>leastsq</td><td></td></tr><tr><td># function evals</td><td>13</td><td></td></tr><tr><td># data points</td><td>9</td><td></td></tr><tr><td># variables</td><td>3</td><td></td></tr><tr><td>chi-square</td><td> 13.3819211</td><td></td></tr><tr><td>reduced chi-square</td><td> 2.23032018</td><td></td></tr><tr><td>Akaike info crit.</td><td> 9.57012042</td><td></td></tr><tr><td>Bayesian info crit.</td><td> 10.1617942</td><td></td></tr></table><h2>Variables</h2><table><tr><th> name </th><th> value </th><th> standard error </th><th> relative error </th><th> initial value </th><th> min </th><th> max </th><th> vary </th></tr><tr><td> a </td><td> -0.00552276 </td><td>  0.00225923 </td><td> (40.91%) </td><td> -1 </td><td>        -inf </td><td>         inf </td><td> True </td></tr><tr><td> b </td><td>  49.7577216 </td><td>  6.67812678 </td><td> (13.42%) </td><td> 50 </td><td>        -inf </td><td>         inf </td><td> True </td></tr><tr><td> c </td><td>  177.415164 </td><td>  1.02641513 </td><td> (0.58%) </td><td> 190 </td><td>        -inf </td><td>         inf </td><td> True </td></tr></table><h2>Correlations (unreported correlations are < 0.100)</h2><table><tr><td>a</td><td>c</td><td>-0.3964</td></tr><tr><td>a</td><td>b</td><td>0.3476</td></tr><tr><td>b</td><td>c</td><td>-0.1070</td></tr></table>"
      ],
      "text/plain": [
       "<lmfit.model.ModelResult at 0x14339e50>"
      ]
     },
     "execution_count": 16,
     "metadata": {},
     "output_type": "execute_result"
    }
   ],
   "source": [
    "# Seond, a parabola,\n",
    "model2 = models.Model(lambda x, a, b, c: a*(x-b)**2 + c)\n",
    "result2 = model2.fit(df['impulse'], x=df['stance width'], weights=1 / df['error'], a=-1, b=50, c=190)\n",
    "result2"
   ]
  },
  {
   "cell_type": "markdown",
   "metadata": {},
   "source": [
    "We cannot draw a conclusion yet from the chi2 values."
   ]
  },
  {
   "cell_type": "code",
   "execution_count": 17,
   "metadata": {},
   "outputs": [
    {
     "data": {
      "text/html": [
       "<div>\n",
       "<style scoped>\n",
       "    .dataframe tbody tr th:only-of-type {\n",
       "        vertical-align: middle;\n",
       "    }\n",
       "\n",
       "    .dataframe tbody tr th {\n",
       "        vertical-align: top;\n",
       "    }\n",
       "\n",
       "    .dataframe thead th {\n",
       "        text-align: right;\n",
       "    }\n",
       "</style>\n",
       "<table border=\"1\" class=\"dataframe\">\n",
       "  <thead>\n",
       "    <tr style=\"text-align: right;\">\n",
       "      <th></th>\n",
       "      <th>stance width</th>\n",
       "      <th>impulse</th>\n",
       "      <th>error</th>\n",
       "      <th>sigma</th>\n",
       "    </tr>\n",
       "  </thead>\n",
       "  <tbody>\n",
       "    <tr>\n",
       "      <th>0</th>\n",
       "      <td>0</td>\n",
       "      <td>161.170658</td>\n",
       "      <td>6.005381</td>\n",
       "      <td>4.957911</td>\n",
       "    </tr>\n",
       "    <tr>\n",
       "      <th>1</th>\n",
       "      <td>10</td>\n",
       "      <td>171.565045</td>\n",
       "      <td>3.825325</td>\n",
       "      <td>4.957911</td>\n",
       "    </tr>\n",
       "    <tr>\n",
       "      <th>2</th>\n",
       "      <td>20</td>\n",
       "      <td>171.038662</td>\n",
       "      <td>3.080887</td>\n",
       "      <td>4.957911</td>\n",
       "    </tr>\n",
       "    <tr>\n",
       "      <th>3</th>\n",
       "      <td>30</td>\n",
       "      <td>175.302728</td>\n",
       "      <td>5.350336</td>\n",
       "      <td>4.957911</td>\n",
       "    </tr>\n",
       "    <tr>\n",
       "      <th>4</th>\n",
       "      <td>40</td>\n",
       "      <td>193.371009</td>\n",
       "      <td>6.911534</td>\n",
       "      <td>4.957911</td>\n",
       "    </tr>\n",
       "    <tr>\n",
       "      <th>5</th>\n",
       "      <td>50</td>\n",
       "      <td>177.071976</td>\n",
       "      <td>0.703771</td>\n",
       "      <td>4.957911</td>\n",
       "    </tr>\n",
       "    <tr>\n",
       "      <th>6</th>\n",
       "      <td>60</td>\n",
       "      <td>188.268868</td>\n",
       "      <td>7.498550</td>\n",
       "      <td>4.957911</td>\n",
       "    </tr>\n",
       "    <tr>\n",
       "      <th>7</th>\n",
       "      <td>70</td>\n",
       "      <td>184.368025</td>\n",
       "      <td>4.715182</td>\n",
       "      <td>4.957911</td>\n",
       "    </tr>\n",
       "    <tr>\n",
       "      <th>8</th>\n",
       "      <td>80</td>\n",
       "      <td>170.993129</td>\n",
       "      <td>2.384634</td>\n",
       "      <td>4.957911</td>\n",
       "    </tr>\n",
       "  </tbody>\n",
       "</table>\n",
       "</div>"
      ],
      "text/plain": [
       "   stance width     impulse     error     sigma\n",
       "0             0  161.170658  6.005381  4.957911\n",
       "1            10  171.565045  3.825325  4.957911\n",
       "2            20  171.038662  3.080887  4.957911\n",
       "3            30  175.302728  5.350336  4.957911\n",
       "4            40  193.371009  6.911534  4.957911\n",
       "5            50  177.071976  0.703771  4.957911\n",
       "6            60  188.268868  7.498550  4.957911\n",
       "7            70  184.368025  4.715182  4.957911\n",
       "8            80  170.993129  2.384634  4.957911"
      ]
     },
     "execution_count": 17,
     "metadata": {},
     "output_type": "execute_result"
    }
   ],
   "source": [
    "# Adding better error uncertainties\n",
    "df['sigma'] = np.sqrt(sum(df['error']**2) / 9)\n",
    "df"
   ]
  },
  {
   "cell_type": "code",
   "execution_count": 18,
   "metadata": {},
   "outputs": [
    {
     "data": {
      "text/html": [
       "<h2> Model</h2> Model(<lambda>) <h2>Fit Statistics</h2><table><tr><td>fitting method</td><td>leastsq</td><td></td></tr><tr><td># function evals</td><td>4</td><td></td></tr><tr><td># data points</td><td>9</td><td></td></tr><tr><td># variables</td><td>1</td><td></td></tr><tr><td>chi-square</td><td> 32.7040925</td><td></td></tr><tr><td>reduced chi-square</td><td> 4.08801156</td><td></td></tr><tr><td>Akaike info crit.</td><td> 13.6124808</td><td></td></tr><tr><td>Bayesian info crit.</td><td> 13.8097054</td><td></td></tr></table><h2>Variables</h2><table><tr><th> name </th><th> value </th><th> standard error </th><th> relative error </th><th> initial value </th><th> min </th><th> max </th><th> vary </th></tr><tr><td> a </td><td>  177.016678 </td><td>  3.34143884 </td><td> (1.89%) </td><td> 176.3899701414174 </td><td>        -inf </td><td>         inf </td><td> True </td></tr></table>"
      ],
      "text/plain": [
       "<lmfit.model.ModelResult at 0x143391f0>"
      ]
     },
     "execution_count": 18,
     "metadata": {},
     "output_type": "execute_result"
    }
   ],
   "source": [
    "# Re-analysing:\n",
    "result1.fit(weights = 1 / df['sigma'])\n",
    "result2.fit(weights = 1 / df['sigma'])\n",
    "result1"
   ]
  },
  {
   "cell_type": "code",
   "execution_count": 19,
   "metadata": {},
   "outputs": [
    {
     "data": {
      "text/html": [
       "<h2> Model</h2> Model(<lambda>) <h2>Fit Statistics</h2><table><tr><td>fitting method</td><td>leastsq</td><td></td></tr><tr><td># function evals</td><td>13</td><td></td></tr><tr><td># data points</td><td>9</td><td></td></tr><tr><td># variables</td><td>3</td><td></td></tr><tr><td>chi-square</td><td> 10.9319899</td><td></td></tr><tr><td>reduced chi-square</td><td> 1.82199831</td><td></td></tr><tr><td>Akaike info crit.</td><td> 7.75021888</td><td></td></tr><tr><td>Bayesian info crit.</td><td> 8.34189261</td><td></td></tr></table><h2>Variables</h2><table><tr><th> name </th><th> value </th><th> standard error </th><th> relative error </th><th> initial value </th><th> min </th><th> max </th><th> vary </th></tr><tr><td> a </td><td> -0.01017460 </td><td>  0.00381327 </td><td> (37.48%) </td><td> -0.005522761114828778 </td><td>        -inf </td><td>         inf </td><td> True </td></tr><tr><td> b </td><td>  49.3311203 </td><td>  5.50054934 </td><td> (11.15%) </td><td> 49.757721625333126 </td><td>        -inf </td><td>         inf </td><td> True </td></tr><tr><td> c </td><td>  184.685644 </td><td>  3.24206412 </td><td> (1.76%) </td><td> 177.4151636707266 </td><td>        -inf </td><td>         inf </td><td> True </td></tr></table><h2>Correlations (unreported correlations are < 0.100)</h2><table><tr><td>a</td><td>c</td><td>-0.6817</td></tr><tr><td>a</td><td>b</td><td>0.6358</td></tr><tr><td>b</td><td>c</td><td>-0.2415</td></tr></table>"
      ],
      "text/plain": [
       "<lmfit.model.ModelResult at 0x14339e50>"
      ]
     },
     "execution_count": 19,
     "metadata": {},
     "output_type": "execute_result"
    }
   ],
   "source": [
    "result2"
   ]
  },
  {
   "cell_type": "markdown",
   "metadata": {},
   "source": [
    "Optimal stance width is $49.8 \\pm 5.5\\ cm$."
   ]
  },
  {
   "cell_type": "code",
   "execution_count": 20,
   "metadata": {},
   "outputs": [
    {
     "data": {
      "image/png": "[encoded data removed]",
      "text/plain": [
       "<Figure size 432x288 with 1 Axes>"
      ]
     },
     "metadata": {
      "needs_background": "light"
     },
     "output_type": "display_data"
    }
   ],
   "source": [
    "lin = lambda x, a: x* 0 + a\n",
    "par = lambda x, a, b, c:lambda x, a, b, c: a*(x-b)**2 + c\n",
    "xs = df['stance width']\n",
    "ys = df['impulse']\n",
    "plt.errorbar(xs, ys, df['sigma'], fmt='o', label='Data')\n",
    "plt.plot(xs, [result1.eval() for x in xs], label='Linear Fit')\n",
    "plt.plot(xs, result2.eval(), label='Parabolic Fit')\n",
    "plt.legend()\n",
    "plt.title('Fit comparison')\n",
    "plt.grid()\n",
    "plt.show()"
   ]
  },
  {
   "cell_type": "markdown",
   "metadata": {},
   "source": [
    "## Casus 2: Röntgenfluorescentie"
   ]
  },
  {
   "cell_type": "code",
   "execution_count": null,
   "metadata": {},
   "outputs": [],
   "source": [
    "# We willen een gaussian fit doen van de x-ray data\n",
    "df = pd.read_csv"
   ]
  }
 ],
 "metadata": {
  "kernelspec": {
   "display_name": "Python 3",
   "language": "python",
   "name": "python3"
  },
  "language_info": {
   "codemirror_mode": {
    "name": "ipython",
    "version": 3
   },
   "file_extension": ".py",
   "mimetype": "text/x-python",
   "name": "python",
   "nbconvert_exporter": "python",
   "pygments_lexer": "ipython3",
   "version": "3.8.1"
  }
 },
 "nbformat": 4,
 "nbformat_minor": 4
}
