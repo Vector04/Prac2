{
 "cells": [
  {
   "cell_type": "code",
   "execution_count": 7,
   "metadata": {},
   "outputs": [
    {
     "data": {
      "text/html": [
       "<div>\n",
       "<style scoped>\n",
       "    .dataframe tbody tr th:only-of-type {\n",
       "        vertical-align: middle;\n",
       "    }\n",
       "\n",
       "    .dataframe tbody tr th {\n",
       "        vertical-align: top;\n",
       "    }\n",
       "\n",
       "    .dataframe thead th {\n",
       "        text-align: right;\n",
       "    }\n",
       "</style>\n",
       "<table border=\"1\" class=\"dataframe\">\n",
       "  <thead>\n",
       "    <tr style=\"text-align: right;\">\n",
       "      <th></th>\n",
       "      <th>V_0</th>\n",
       "      <th>V_1</th>\n",
       "      <th>dV_1</th>\n",
       "      <th>V_2</th>\n",
       "      <th>dV_2</th>\n",
       "    </tr>\n",
       "  </thead>\n",
       "  <tbody>\n",
       "    <tr>\n",
       "      <td>0</td>\n",
       "      <td>1.600000</td>\n",
       "      <td>2.154194</td>\n",
       "      <td>0.024474</td>\n",
       "      <td>0.023871</td>\n",
       "      <td>0.038983</td>\n",
       "    </tr>\n",
       "    <tr>\n",
       "      <td>1</td>\n",
       "      <td>1.631579</td>\n",
       "      <td>2.146452</td>\n",
       "      <td>0.015006</td>\n",
       "      <td>0.011935</td>\n",
       "      <td>0.004340</td>\n",
       "    </tr>\n",
       "    <tr>\n",
       "      <td>2</td>\n",
       "      <td>1.663158</td>\n",
       "      <td>2.125806</td>\n",
       "      <td>0.014783</td>\n",
       "      <td>0.018065</td>\n",
       "      <td>0.005806</td>\n",
       "    </tr>\n",
       "    <tr>\n",
       "      <td>3</td>\n",
       "      <td>1.694737</td>\n",
       "      <td>2.132581</td>\n",
       "      <td>0.011935</td>\n",
       "      <td>0.020968</td>\n",
       "      <td>0.007104</td>\n",
       "    </tr>\n",
       "    <tr>\n",
       "      <td>4</td>\n",
       "      <td>1.726316</td>\n",
       "      <td>2.121935</td>\n",
       "      <td>0.007038</td>\n",
       "      <td>0.025806</td>\n",
       "      <td>0.014498</td>\n",
       "    </tr>\n",
       "    <tr>\n",
       "      <td>5</td>\n",
       "      <td>1.757895</td>\n",
       "      <td>2.102903</td>\n",
       "      <td>0.013568</td>\n",
       "      <td>0.042581</td>\n",
       "      <td>0.008870</td>\n",
       "    </tr>\n",
       "    <tr>\n",
       "      <td>6</td>\n",
       "      <td>1.789474</td>\n",
       "      <td>2.091935</td>\n",
       "      <td>0.021507</td>\n",
       "      <td>0.050968</td>\n",
       "      <td>0.007328</td>\n",
       "    </tr>\n",
       "    <tr>\n",
       "      <td>7</td>\n",
       "      <td>1.821053</td>\n",
       "      <td>2.059677</td>\n",
       "      <td>0.019043</td>\n",
       "      <td>0.068065</td>\n",
       "      <td>0.015568</td>\n",
       "    </tr>\n",
       "    <tr>\n",
       "      <td>8</td>\n",
       "      <td>1.852632</td>\n",
       "      <td>2.037419</td>\n",
       "      <td>0.029254</td>\n",
       "      <td>0.079677</td>\n",
       "      <td>0.003548</td>\n",
       "    </tr>\n",
       "    <tr>\n",
       "      <td>9</td>\n",
       "      <td>1.884211</td>\n",
       "      <td>1.475161</td>\n",
       "      <td>0.026952</td>\n",
       "      <td>0.096129</td>\n",
       "      <td>0.004741</td>\n",
       "    </tr>\n",
       "    <tr>\n",
       "      <td>10</td>\n",
       "      <td>1.915789</td>\n",
       "      <td>0.500645</td>\n",
       "      <td>0.011432</td>\n",
       "      <td>0.090645</td>\n",
       "      <td>0.011671</td>\n",
       "    </tr>\n",
       "    <tr>\n",
       "      <td>11</td>\n",
       "      <td>1.947368</td>\n",
       "      <td>0.128065</td>\n",
       "      <td>0.013614</td>\n",
       "      <td>0.092903</td>\n",
       "      <td>0.004029</td>\n",
       "    </tr>\n",
       "    <tr>\n",
       "      <td>12</td>\n",
       "      <td>1.978947</td>\n",
       "      <td>0.064839</td>\n",
       "      <td>0.020928</td>\n",
       "      <td>0.095161</td>\n",
       "      <td>0.006805</td>\n",
       "    </tr>\n",
       "    <tr>\n",
       "      <td>13</td>\n",
       "      <td>2.010526</td>\n",
       "      <td>0.056452</td>\n",
       "      <td>0.005992</td>\n",
       "      <td>0.108387</td>\n",
       "      <td>0.042897</td>\n",
       "    </tr>\n",
       "    <tr>\n",
       "      <td>14</td>\n",
       "      <td>2.042105</td>\n",
       "      <td>0.048065</td>\n",
       "      <td>0.016975</td>\n",
       "      <td>0.096774</td>\n",
       "      <td>0.009995</td>\n",
       "    </tr>\n",
       "    <tr>\n",
       "      <td>15</td>\n",
       "      <td>2.073684</td>\n",
       "      <td>0.042903</td>\n",
       "      <td>0.005957</td>\n",
       "      <td>0.108387</td>\n",
       "      <td>0.024870</td>\n",
       "    </tr>\n",
       "    <tr>\n",
       "      <td>16</td>\n",
       "      <td>2.105263</td>\n",
       "      <td>0.048710</td>\n",
       "      <td>0.004663</td>\n",
       "      <td>0.097097</td>\n",
       "      <td>0.006681</td>\n",
       "    </tr>\n",
       "    <tr>\n",
       "      <td>17</td>\n",
       "      <td>2.136842</td>\n",
       "      <td>0.044839</td>\n",
       "      <td>0.011123</td>\n",
       "      <td>0.096774</td>\n",
       "      <td>0.005587</td>\n",
       "    </tr>\n",
       "    <tr>\n",
       "      <td>18</td>\n",
       "      <td>2.168421</td>\n",
       "      <td>0.040968</td>\n",
       "      <td>0.008899</td>\n",
       "      <td>0.100323</td>\n",
       "      <td>0.002258</td>\n",
       "    </tr>\n",
       "    <tr>\n",
       "      <td>19</td>\n",
       "      <td>2.200000</td>\n",
       "      <td>0.049032</td>\n",
       "      <td>0.014698</td>\n",
       "      <td>0.108065</td>\n",
       "      <td>0.017085</td>\n",
       "    </tr>\n",
       "  </tbody>\n",
       "</table>\n",
       "</div>"
      ],
      "text/plain": [
       "         V_0       V_1      dV_1       V_2      dV_2\n",
       "0   1.600000  2.154194  0.024474  0.023871  0.038983\n",
       "1   1.631579  2.146452  0.015006  0.011935  0.004340\n",
       "2   1.663158  2.125806  0.014783  0.018065  0.005806\n",
       "3   1.694737  2.132581  0.011935  0.020968  0.007104\n",
       "4   1.726316  2.121935  0.007038  0.025806  0.014498\n",
       "5   1.757895  2.102903  0.013568  0.042581  0.008870\n",
       "6   1.789474  2.091935  0.021507  0.050968  0.007328\n",
       "7   1.821053  2.059677  0.019043  0.068065  0.015568\n",
       "8   1.852632  2.037419  0.029254  0.079677  0.003548\n",
       "9   1.884211  1.475161  0.026952  0.096129  0.004741\n",
       "10  1.915789  0.500645  0.011432  0.090645  0.011671\n",
       "11  1.947368  0.128065  0.013614  0.092903  0.004029\n",
       "12  1.978947  0.064839  0.020928  0.095161  0.006805\n",
       "13  2.010526  0.056452  0.005992  0.108387  0.042897\n",
       "14  2.042105  0.048065  0.016975  0.096774  0.009995\n",
       "15  2.073684  0.042903  0.005957  0.108387  0.024870\n",
       "16  2.105263  0.048710  0.004663  0.097097  0.006681\n",
       "17  2.136842  0.044839  0.011123  0.096774  0.005587\n",
       "18  2.168421  0.040968  0.008899  0.100323  0.002258\n",
       "19  2.200000  0.049032  0.014698  0.108065  0.017085"
      ]
     },
     "execution_count": 7,
     "metadata": {},
     "output_type": "execute_result"
    }
   ],
   "source": [
    "import numpy as np \n",
    "import pandas as pd \n",
    "from matplotlib import pyplot as plt \n",
    "from uncertainties import ufloat, unumpy\n",
    "\n",
    "def errorbar(xs, ys, **kwargs):\n",
    "    plt.errorbar(unumpy.nominal_values(xs), unumpy.nominal_values(ys), xerr=unumpy.std_devs(xs), yerr=unumpy.std_devs(ys), **kwargs)\n",
    "\n",
    "\n",
    "df = pd.read_csv(\"data21.csv\")\n",
    "df"
   ]
  },
  {
   "cell_type": "code",
   "execution_count": 8,
   "metadata": {},
   "outputs": [
    {
     "data": {
      "image/png": "[encoded data removed]",
      "text/plain": [
       "<Figure size 432x288 with 1 Axes>"
      ]
     },
     "metadata": {
      "needs_background": "light"
     },
     "output_type": "display_data"
    }
   ],
   "source": [
    "plt.errorbar(df['V_0'], df['V_1'], yerr=df['dV_1'], label='Channel 1')\n",
    "plt.errorbar(df['V_0'], df['V_2'], yerr=df['dV_2'], label='Channel 2')\n",
    "plt.legend()\n",
    "plt.show()"
   ]
  },
  {
   "cell_type": "code",
   "execution_count": 10,
   "metadata": {
    "scrolled": true
   },
   "outputs": [
    {
     "data": {
      "image/png": "[encoded data removed]",
      "text/plain": [
       "<Figure size 432x288 with 1 Axes>"
      ]
     },
     "metadata": {
      "needs_background": "light"
     },
     "output_type": "display_data"
    }
   ],
   "source": [
    "V_1 = unumpy.uarray(df['V_1'], df['dV_1'])\n",
    "V_2 = unumpy.uarray(df['V_2'], df['dV_2'])\n",
    "\n",
    "# V_out = 3 V_1\n",
    "V_out = 3 * V_1\n",
    "# I_out = V_2 / R (Approx)\n",
    "I_out = V_2 / 4.7\n",
    "\n",
    "\n",
    "errorbar(V_out, I_out)\n",
    "# plt.plot(unumpy.nominal_values(V_out), unumpy.nominal_values(I_out))\n",
    "plt.show()\n"
   ]
  },
  {
   "cell_type": "code",
   "execution_count": 11,
   "metadata": {},
   "outputs": [
    {
     "data": {
      "image/png": "[encoded data removed]",
      "text/plain": [
       "<Figure size 432x288 with 1 Axes>"
      ]
     },
     "metadata": {
      "needs_background": "light"
     },
     "output_type": "display_data"
    }
   ],
   "source": [
    "P_out = V_out * I_out\n",
    "errorbar(V_out, P_out)\n",
    "plt.show()"
   ]
  },
  {
   "cell_type": "code",
   "execution_count": 16,
   "metadata": {},
   "outputs": [
    {
     "name": "stdout",
     "output_type": "stream",
     "text": [
      "[[Model]]\n",
      "    Model(I)\n",
      "[[Fit Statistics]]\n",
      "    # fitting method   = leastsq\n",
      "    # function evals   = 57\n",
      "    # data points      = 20\n",
      "    # variables        = 2\n",
      "    chi-square         = 37.7339334\n",
      "    reduced chi-square = 2.09632963\n",
      "    Akaike info crit   = 16.6965501\n",
      "    Bayesian info crit = 18.6880147\n",
      "[[Variables]]\n",
      "    I_L:  0.02059642 +/- 4.6057e-04 (2.24%) (init = 0.02)\n",
      "    I_0: -25.6434903 +/- 0.06773447 (0.26%) (init = -23)\n",
      "[[Correlations]] (unreported correlations are < 0.100)\n",
      "    C(I_L, I_0) =  0.365\n"
     ]
    }
   ],
   "source": [
    "# I think we can fit this with the I-U characteristic:\n",
    "from lmfit import models, Parameter, Parameters\n",
    "\n",
    "\n",
    "def I(U, I_L, I_0):\n",
    "    e = 1.6e-19\n",
    "    k = 1.23e-23\n",
    "    T = 300\n",
    "    I1 = I_L - (10**I_0) * (np.exp((e * U) / (5 * k * T)))\n",
    "    I1[I1 < 0] = 0\n",
    "    return I1\n",
    "    \n",
    "UIModel = models.Model(I)\n",
    "params = Parameters()\n",
    "# add with tuples: (NAME VALUE VARY MIN  MAX  EXPR  BRUTE_STEP)\n",
    "params.add_many(('I_L', 0.02, True, 0, 1, None, 0.0005), ('I_0', -23, True, None, -3, None, 0.01))\n",
    "result = UIModel.fit(unumpy.nominal_values(I_out), \n",
    "                     params=params, \n",
    "                     U=unumpy.nominal_values(V_out), \n",
    "                     weights=1/unumpy.std_devs(I_out))\n",
    "\n",
    "print(result.fit_report())"
   ]
  },
  {
   "cell_type": "code",
   "execution_count": 17,
   "metadata": {},
   "outputs": [
    {
     "data": {
      "text/plain": [
       "(<Figure size 432x432 with 2 Axes>, GridSpec(2, 1, height_ratios=[1, 4]))"
      ]
     },
     "execution_count": 17,
     "metadata": {},
     "output_type": "execute_result"
    },
    {
     "data": {
      "image/png": "[encoded data removed]",
      "text/plain": [
       "<Figure size 432x432 with 2 Axes>"
      ]
     },
     "metadata": {
      "needs_background": "light"
     },
     "output_type": "display_data"
    }
   ],
   "source": [
    "result.plot()"
   ]
  },
  {
   "cell_type": "code",
   "execution_count": 20,
   "metadata": {},
   "outputs": [
    {
     "name": "stdout",
     "output_type": "stream",
     "text": [
      "[[Model]]\n",
      "    Model(P)\n",
      "[[Fit Statistics]]\n",
      "    # fitting method   = leastsq\n",
      "    # function evals   = 42\n",
      "    # data points      = 20\n",
      "    # variables        = 2\n",
      "    chi-square         = 22.5239410\n",
      "    reduced chi-square = 1.25133005\n",
      "    Akaike info crit   = 6.37693028\n",
      "    Bayesian info crit = 8.36839482\n",
      "[[Variables]]\n",
      "    I_L:  0.01929239 +/- 6.4764e-04 (3.36%) (init = 0.02)\n",
      "    I_0: -25.8073567 +/- 0.03912255 (0.15%) (init = -23)\n",
      "[[Correlations]] (unreported correlations are < 0.100)\n",
      "    C(I_L, I_0) =  0.603\n"
     ]
    }
   ],
   "source": [
    "# So fitting is possible, although some adjustments to I() are neccesary. \n",
    "# I think we should be able to do the same thing with the power curve\n",
    "# 1) power curve fit based on fitted I()\n",
    "I_L, I_0 = ufloat(0.02059642, 4.6057e-04), ufloat(-25.6434903, 0.06773447)\n",
    "\n",
    "def P(U, I_L, I_0):\n",
    "    return U * I(U, I_L, I_0)\n",
    "    \n",
    "UIModel = models.Model(P)\n",
    "params = Parameters()\n",
    "# add with tuples: (NAME VALUE VARY MIN  MAX  EXPR  BRUTE_STEP)\n",
    "params.add_many(('I_L', 0.02, True, 0, 1, None, 0.0005), ('I_0', -23, True, None, -3, None, 0.01))\n",
    "result = UIModel.fit(unumpy.nominal_values(I_out * V_out), \n",
    "                     params=params, \n",
    "                     U=unumpy.nominal_values(V_out), \n",
    "                     weights=1/unumpy.std_devs(I_out * V_out))\n",
    "\n",
    "print(result.fit_report())\n",
    "\n",
    "\n"
   ]
  },
  {
   "cell_type": "code",
   "execution_count": 21,
   "metadata": {},
   "outputs": [
    {
     "name": "stdout",
     "output_type": "stream",
     "text": [
      "[0.005078929306794784+/-0.008294235464664812\n",
      " 0.002539464653397392+/-0.0009233784520984014\n",
      " 0.003843514070006863+/-0.0012354152367879203\n",
      " 0.004461221688400824+/-0.0015115110189118214\n",
      " 0.00549073438572409+/-0.003084722725359537\n",
      " 0.009059711736444749+/-0.001887127945760813\n",
      " 0.010844200411805078+/-0.0015590688663830543\n",
      " 0.014481811942347286+/-0.003312265892110817\n",
      " 0.01695264241592313+/-0.0007549759780370632\n",
      " 0.02045298558682224+/-0.0010087123168633538\n",
      " 0.019286204529855872+/-0.00248319183460886\n",
      " 0.019766643788606725+/-0.0008572406312146049\n",
      " 0.020247083047357582+/-0.0014478396094529165\n",
      " 0.02306108442004118+/-0.009127055708924798\n",
      " 0.02059025394646534+/-0.0021265522834357817\n",
      " 0.023061084420041175+/-0.005291512770733393\n",
      " 0.02065888812628689+/-0.001421572764393135\n",
      " 0.02059025394646534+/-0.0011887788658674517\n",
      " 0.0213452299245024+/-0.00048043925875085796\n",
      " 0.022992450240219627+/-0.0036350206388099833]\n"
     ]
    }
   ],
   "source": [
    "result.plot()"
   ]
  },
  {
   "cell_type": "code",
   "execution_count": null,
   "metadata": {},
   "outputs": [],
   "source": []
  }
 ],
 "metadata": {
  "kernelspec": {
   "display_name": "'Python Interactive'",
   "language": "python",
   "name": "0d89e5e1-77b1-4ba2-8fe1-2a7bb09116f5"
  },
  "language_info": {
   "codemirror_mode": {
    "name": "ipython",
    "version": 3
   },
   "file_extension": ".py",
   "mimetype": "text/x-python",
   "name": "python",
   "nbconvert_exporter": "python",
   "pygments_lexer": "ipython3",
   "version": "3.7.5"
  }
 },
 "nbformat": 4,
 "nbformat_minor": 2
}
